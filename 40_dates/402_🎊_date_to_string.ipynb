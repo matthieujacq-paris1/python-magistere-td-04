{
 "cells": [
  {
   "cell_type": "markdown",
   "metadata": {},
   "source": [
    "> ### Vérification de la configuration\n",
    "> Vérifiez que Python et les tests fonctionnent correctement en exécutant les deux cellules ci-dessous."
   ]
  },
  {
   "cell_type": "code",
   "execution_count": null,
   "metadata": {},
   "outputs": [],
   "source": [
    "print(\"✅ Python works!\")\n",
    "from sys import version\n",
    "print(version)"
   ]
  },
  {
   "cell_type": "code",
   "execution_count": null,
   "metadata": {},
   "outputs": [],
   "source": [
    "import ipytest\n",
    "ipytest.autoconfig()\n",
    "ipytest.clean()\n",
    "def test_all_good():\n",
    "    assert \"🐍\" == \"🐍\"\n",
    "ipytest.run()"
   ]
  },
  {
   "cell_type": "markdown",
   "metadata": {},
   "source": [
    "# 🔄 Conversion d'une date en string et réciproquement\n",
    "\n",
    "## ➡️ Conversion d'une date en string\n",
    "\n",
    "Pour convertir une date en string, on utilise la méthode `.strftime(format)`.\n",
    "\n",
    "```python\n",
    "from datetime import datetime\n",
    "\n",
    "date = datetime(2024, 9, 29, 15, 30, 45)\n",
    "print(date.strftime('%Y-%m-%d %H:%M:%S')) # 2024-09-29 15:30:45\n",
    "```\n",
    "\n",
    "Le format de la date est défini par une chaîne de caractères composée de caractères spéciaux, dont les plus importants sont :\n",
    "\n",
    "- `%Y` : année sur 4 chiffres (ex : 2024)\n",
    "\n",
    "- `%y`, `%m`, `%d` : année, mois et jour sur 2 chiffres (ex : 24, 09, 29)\n",
    "\n",
    "- `%H`, `%M`, `%S` : heure, minute et seconde sur 2 chiffres (ex : 15, 30, 45)\n",
    "\n",
    "> **ℹ️ Info:** Il en existe bien d'autres, il est inutile de tous les connaître par cœur. Vous pouvez les retrouver dans la [documentation officielle](https://docs.python.org/3/library/datetime.html#strftime-and-strptime-format-codes).\n",
    "> - `%A` : jour de la semaine (ex : Monday)\n",
    "> - `%B` : mois (ex : September)\n",
    "> - `%c` : date et heure (ex : Mon Sep 29 15:30:45 2024)\n",
    "> - `%x` : date (ex : 09/29/24)\n",
    "\n",
    "> **Conversion au format ISO :**\n",
    "> Le format ISO est le format standard international pour les dates. Pour convertir facilement une date en string au format ISO, on peut utiliser la méthode `.isoformat()`.\n",
    "> ```python\n",
    "> print(date.isoformat()) # 2024-09-29T15:30:45.000000\n",
    "> ```\n",
    "\n",
    "## ⬅️ Conversion d'une string en date\n",
    "\n",
    "Pour convertir une string en date, on utilise la méthode `datetime.strptime(string, format)`.\n",
    "\n",
    "```python\n",
    "from datetime import datetime\n",
    "\n",
    "date = datetime.strptime('2024-09-29 15:30:45', '%Y-%m-%d %H:%M:%S')\n",
    "print(date) # 2024-09-29 15:30:45\n",
    "```\n",
    "\n",
    "Le format de la date est défini par une chaîne de caractères composée de caractères spéciaux, identiques à ceux de la méthode `.strftime()`.\n",
    "\n",
    "> **Lecture d'une date au format ISO :**\n",
    "> Pour lire une date au format ISO, on peut utiliser la méthode `datetime.fromisoformat(string)`.\n",
    "> ```python\n",
    "> date = datetime.fromisoformat('2024-09-29T15:30:45')\n",
    "> print(date) # 2024-09-29 15:30:45\n",
    "> ```\n",
    "\n",
    "> **ℹ️ Pourquoi les noms strftime et strptime :**\n",
    "> - `strftime` : string, format, time (f pour format). On formate une date en string.\n",
    "> - `strptime` : string, parse, time (p pour parse). On parse une string en date. Le terme \"parse\" signifie \"analyser\" en anglais. En informatique, il est souvent utilisé pour désigner l'analyse d'une chaîne de caractères pour en extraire des informations.\n",
    "\n",
    "## 📚 Exercices\n",
    "\n",
    "1. Écrivez une fonction `format_date_to_french_string(date: datetime) -> str` qui convertit une date en string au format français `'jour/mois/année heures:minutes:secondes'`.\n",
    "2. Écrivez une fonction `parse_french_string_to_date(date_str: str) -> datetime` qui convertit une string au format français en date."
   ]
  },
  {
   "cell_type": "code",
   "execution_count": null,
   "metadata": {},
   "outputs": [],
   "source": [
    "# 🏖️ Sandbox for testing code\n"
   ]
  },
  {
   "cell_type": "code",
   "execution_count": 7,
   "metadata": {},
   "outputs": [],
   "source": [
    "# 1. Écrivez une fonction `format_date_to_french_string(date: datetime) -> str` qui convertit une date en string au format français `'jour/mois/année heures:minutes:secondes'`\n",
    "# Par exemple, `format_date_to_french_string(datetime(2021, 1, 1, 12, 0, 0))` doit retourner `'01/01/2021 12:00:00'`\n"
   ]
  },
  {
   "cell_type": "code",
   "execution_count": null,
   "metadata": {},
   "outputs": [],
   "source": [
    "# 🧪\n",
    "ipytest.clean()\n",
    "def test_format_date_to_french_string():\n",
    "    from datetime import datetime\n",
    "    assert format_date_to_french_string(datetime(2021, 1, 1, 12, 0, 0)) == '01/01/2021 12:00:00'\n",
    "    assert format_date_to_french_string(datetime(2021, 12, 31, 23, 59, 59)) == '31/12/2021 23:59:59'\n",
    "ipytest.run()"
   ]
  },
  {
   "cell_type": "code",
   "execution_count": 9,
   "metadata": {},
   "outputs": [],
   "source": [
    "# 2. Écrivez une fonction `parse_french_string_to_date(date_str: str) -> datetime` qui convertit une string au format français en date.\n",
    "# Par exemple, `parse_french_string_to_date('01/01/2021 12:00:00')` doit retourner `datetime(2021, 1, 1, 12, 0, 0)`\n"
   ]
  },
  {
   "cell_type": "code",
   "execution_count": null,
   "metadata": {},
   "outputs": [],
   "source": [
    "# 🧪\n",
    "ipytest.clean()\n",
    "def test_parse_french_string_to_date():\n",
    "    from datetime import datetime\n",
    "    assert parse_french_string_to_date('01/01/2021 12:00:00') == datetime(2021, 1, 1, 12, 0, 0)\n",
    "    assert parse_french_string_to_date('31/12/2021 23:59:59') == datetime(2021, 12, 31, 23, 59, 59)\n",
    "ipytest.run()"
   ]
  }
 ],
 "metadata": {
  "kernelspec": {
   "display_name": "Python 3",
   "language": "python",
   "name": "python3"
  },
  "language_info": {
   "codemirror_mode": {
    "name": "ipython",
    "version": 3
   },
   "file_extension": ".py",
   "mimetype": "text/x-python",
   "name": "python",
   "nbconvert_exporter": "python",
   "pygments_lexer": "ipython3",
   "version": "3.11.5"
  }
 },
 "nbformat": 4,
 "nbformat_minor": 2
}
