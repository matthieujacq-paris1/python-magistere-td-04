{
 "cells": [
  {
   "cell_type": "markdown",
   "metadata": {},
   "source": [
    "> ### Vérification de la configuration\n",
    "> Vérifiez que Python et les tests fonctionnent correctement en exécutant les deux cellules ci-dessous."
   ]
  },
  {
   "cell_type": "code",
   "execution_count": null,
   "metadata": {},
   "outputs": [],
   "source": [
    "print(\"✅ Python works!\")\n",
    "from sys import version\n",
    "print(version)"
   ]
  },
  {
   "cell_type": "code",
   "execution_count": null,
   "metadata": {},
   "outputs": [],
   "source": [
    "import ipytest\n",
    "ipytest.autoconfig()\n",
    "ipytest.clean()\n",
    "def test_all_good():\n",
    "    assert \"🐍\" == \"🐍\"\n",
    "ipytest.run()"
   ]
  },
  {
   "cell_type": "markdown",
   "metadata": {},
   "source": [
    "# Le package `random` est utilisé pour générer des nombres aléatoires\n",
    "\n",
    "En Python, le package `random` est utilisé pour introduire des éléments d'aléatoire dans les programmes.\n",
    "\n",
    "Voici un certain nombre de fonctions utiles du package `random` :\n",
    "- `random()` : retourne un float aléatoire entre 0 et 1.\n",
    "- `randint(a, b)` : retourne un int aléatoire entre `a` et `b` (inclus).\n",
    "- `choice(liste)` : retourne un élément aléatoire de la liste.\n",
    "- `sample(liste, k)` : retourne `k` éléments uniques de la liste. (La liste n'est pas modifiée.)\n",
    "- `shuffle(liste)` : mélange la liste. (⚠️ La liste est modifiée sur place et n'est pas renvoyée.)\n",
    "\n",
    "Pour utiliser ces fonctions, vous devez d'abord importer le package `random` en utilisant la commande `import random`.\n",
    "\n",
    "Exemples :\n",
    "```python\n",
    "import random\n",
    "\n",
    "print(random.random()) # Affiche un float aléatoire entre 0 et 1\n",
    "print(random.randint(1, 10)) # Affiche un int aléatoire entre 1 et 10 (inclus)\n",
    "print(random.choice([1, 2, 3, 4, 5])) # Affiche un élément aléatoire de la liste\n",
    "print(random.sample([1, 2, 3, 4, 5], 3)) # Affiche 3 éléments uniques de la liste\n",
    "\n",
    "liste = [1, 2, 3, 4, 5]\n",
    "random.shuffle(liste)\n",
    "print(liste) # Affiche la liste mélangée\n",
    "```\n",
    "\n",
    "> **🎊 Seed** :\n",
    "> Pour obtenir des résultats reproductibles, vous pouvez fixer la seed du générateur de nombres aléatoires en utilisant la fonction `random.seed()`. Cela garantit que les mêmes nombres aléatoires seront générés à chaque exécution du programme.\n",
    "> ```python\n",
    "> random.seed(0)\n",
    "> print(random.random()) # Affiche 0.8444218515250481\n",
    "> print(random.random()) # Affiche 0.7579544029403025\n",
    "> random.seed(0)\n",
    "> print(random.random()) # Affiche 0.8444218515250481\n",
    "> print(random.random()) # Affiche 0.7579544029403025\n",
    "> random.seed(1)\n",
    "> print(random.random()) # Affiche 0.13436424411240122\n",
    "> ```\n",
    "> Notez que la seed doit être fixée avant d'utiliser les fonctions de génération de nombres aléatoires.\n",
    "## Exercices\n",
    "\n",
    "1. Écrivez une fonction `throw_dice` qui simule le lancer d'un dé à six faces. La fonction doit retourner un nombre aléatoire entre 1 et 6.\n",
    "2. Écrivez une fonction `throw_coin` qui simule le lancer d'une pièce. La fonction doit retourner \"heads\" (pile) ou \"tails\" (face).\n",
    "3. Écrivez une fonction `throw_dice_n_times` qui simule le lancer d'un dé à six faces `n` fois. La fonction doit retourner une liste de `n` nombres aléatoires entre 1 et 6.\n",
    "4. Écrivez une fonction qui me renvoie une lettre de l'alphabet au hasard (`alphabet = list(\"abcdefghijklmnopqrstuvwxyz\")`).\n",
    "5. 🎊 Écrivez une fonction qui me renvoie un mot de 3 lettres formé de lettres de l'alphabet au hasard. (ex: \"cat\", \"dog\", \"bat\", \"xyz\", etc.)\n"
   ]
  },
  {
   "cell_type": "code",
   "execution_count": null,
   "metadata": {},
   "outputs": [],
   "source": [
    "# 🏖️ Sandbox for testing code\n"
   ]
  },
  {
   "cell_type": "code",
   "execution_count": null,
   "metadata": {},
   "outputs": [],
   "source": [
    "# 1. Écrivez une fonction `throw_dice` qui simule le lancer d'un dé à six faces. La fonction doit retourner un nombre aléatoire entre 1 et 6.\n",
    "\n"
   ]
  },
  {
   "cell_type": "code",
   "execution_count": null,
   "metadata": {},
   "outputs": [],
   "source": [
    "# 🧪\n",
    "ipytest.clean()\n",
    "def test_throw_dice():\n",
    "    import random as r\n",
    "    r.seed(0)\n",
    "    assert throw_dice() == 4\n",
    "    assert throw_dice() == 4\n",
    "    assert throw_dice() == 1\n",
    "    assert throw_dice() == 3\n",
    "    assert throw_dice() == 5\n",
    "ipytest.run()"
   ]
  },
  {
   "cell_type": "code",
   "execution_count": null,
   "metadata": {},
   "outputs": [],
   "source": [
    "# 2. Écrivez une fonction `throw_coin` qui simule le lancer d'une pièce. La fonction doit retourner \"heads\" (pile) ou \"tails\" (face).\n"
   ]
  },
  {
   "cell_type": "code",
   "execution_count": null,
   "metadata": {},
   "outputs": [],
   "source": [
    "# 🧪\n",
    "ipytest.clean()\n",
    "def test_throw_coin():\n",
    "    import random as r\n",
    "    r.seed(0)\n",
    "    assert throw_coin() == \"tails\"\n",
    "    assert throw_coin() == \"tails\"\n",
    "    assert throw_coin() == \"heads\"\n",
    "    assert throw_coin() == \"tails\"\n",
    "    assert throw_coin() == \"tails\"\n",
    "ipytest.run()"
   ]
  },
  {
   "cell_type": "code",
   "execution_count": null,
   "metadata": {},
   "outputs": [],
   "source": [
    "# 3. Écrivez une fonction `throw_dice_n_times` qui simule le lancer d'un dé à six faces `n` fois. La fonction doit retourner une liste de `n` nombres aléatoires entre 1 et 6.\n"
   ]
  },
  {
   "cell_type": "code",
   "execution_count": null,
   "metadata": {},
   "outputs": [],
   "source": [
    "# 🧪\n",
    "ipytest.clean()\n",
    "def test_throw_dice_n_times():\n",
    "    import random as r\n",
    "    r.seed(0)\n",
    "    assert throw_dice_n_times(5) == [4, 4, 1, 3, 5]\n",
    "    assert throw_dice_n_times(5) == [4, 4, 3, 4, 3]\n",
    "    assert throw_dice_n_times(3) == [5, 2, 5]\n",
    "ipytest.run()"
   ]
  },
  {
   "cell_type": "code",
   "execution_count": null,
   "metadata": {},
   "outputs": [],
   "source": [
    "# 4. Écrivez une fonction qui me renvoie une lettre de l'alphabet au hasard (`alphabet = list(\"abcdefghijklmnopqrstuvwxyz\")`).\n",
    "\n"
   ]
  },
  {
   "cell_type": "code",
   "execution_count": null,
   "metadata": {},
   "outputs": [],
   "source": [
    "# 🧪\n",
    "ipytest.clean()\n",
    "def test_random_letter():\n",
    "    import random as r\n",
    "    r.seed(0)\n",
    "    assert random_letter() == \"m\"\n",
    "    assert random_letter() == \"y\"\n",
    "    assert random_letter() == \"n\"\n",
    "ipytest.run()"
   ]
  },
  {
   "cell_type": "code",
   "execution_count": null,
   "metadata": {},
   "outputs": [],
   "source": [
    "# 5. 🎊 Écrivez une fonction qui me renvoie un mot de 3 lettres formé de lettres de l'alphabet au hasard. (ex: \"cat\", \"dog\", \"bat\", \"xyz\", etc.)\n",
    "\n"
   ]
  },
  {
   "cell_type": "code",
   "execution_count": null,
   "metadata": {},
   "outputs": [],
   "source": [
    "# 🧪\n",
    "ipytest.clean()\n",
    "def test_random_word():\n",
    "    import random as r\n",
    "    r.seed(0)\n",
    "    assert random_word() == \"myn\"\n",
    "    assert random_word() == \"biq\"\n",
    "    assert random_word() == \"pmz\"\n",
    "ipytest.run()"
   ]
  }
 ],
 "metadata": {
  "kernelspec": {
   "display_name": "Python 3",
   "language": "python",
   "name": "python3"
  },
  "language_info": {
   "codemirror_mode": {
    "name": "ipython",
    "version": 3
   },
   "file_extension": ".py",
   "mimetype": "text/x-python",
   "name": "python",
   "nbconvert_exporter": "python",
   "pygments_lexer": "ipython3",
   "version": "3.11.5"
  }
 },
 "nbformat": 4,
 "nbformat_minor": 2
}
